{
  "nbformat": 4,
  "nbformat_minor": 0,
  "metadata": {
    "colab": {
      "provenance": [],
      "authorship_tag": "ABX9TyOyPY+vDNKWUiyF5ZLBSkb/",
      "include_colab_link": true
    },
    "kernelspec": {
      "name": "python3",
      "display_name": "Python 3"
    },
    "language_info": {
      "name": "python"
    }
  },
  "cells": [
    {
      "cell_type": "markdown",
      "metadata": {
        "id": "view-in-github",
        "colab_type": "text"
      },
      "source": [
        "<a href=\"https://colab.research.google.com/github/Hiromi06/machine-translation/blob/main/JESC_extract.ipynb\" target=\"_parent\"><img src=\"https://colab.research.google.com/assets/colab-badge.svg\" alt=\"Open In Colab\"/></a>"
      ]
    },
    {
      "cell_type": "code",
      "source": [
        "from google.colab import drive\n",
        "drive.mount('/content/drive')"
      ],
      "metadata": {
        "colab": {
          "base_uri": "https://localhost:8080/"
        },
        "id": "WTjeq1vxkECU",
        "outputId": "11156f12-53f8-4e2a-8d16-43bb549a6294"
      },
      "execution_count": 1,
      "outputs": [
        {
          "output_type": "stream",
          "name": "stdout",
          "text": [
            "Mounted at /content/drive\n"
          ]
        }
      ]
    },
    {
      "cell_type": "code",
      "execution_count": 4,
      "metadata": {
        "colab": {
          "base_uri": "https://localhost:8080/"
        },
        "id": "6axRM1wniAKS",
        "outputId": "a910b39f-078b-4979-d3af-fcb1dc2fd5d2"
      },
      "outputs": [
        {
          "output_type": "stream",
          "name": "stdout",
          "text": [
            "['/content',\n",
            " '/env/python',\n",
            " '/usr/lib/python310.zip',\n",
            " '/usr/lib/python3.10',\n",
            " '/usr/lib/python3.10/lib-dynload',\n",
            " '',\n",
            " '/usr/local/lib/python3.10/dist-packages',\n",
            " '/usr/lib/python3/dist-packages',\n",
            " '/usr/local/lib/python3.10/dist-packages/IPython/extensions',\n",
            " '/usr/local/lib/python3.10/dist-packages/setuptools/_vendor',\n",
            " '/root/.ipython']\n"
          ]
        }
      ],
      "source": [
        "import sys\n",
        "import os\n",
        "import tarfile\n",
        "import zipfile\n",
        "import pprint\n",
        "pprint.pprint(sys.path)"
      ]
    },
    {
      "cell_type": "code",
      "source": [
        "!file /content/drive/MyDrive/machine_learning/JESC/raw.tar.gz"
      ],
      "metadata": {
        "colab": {
          "base_uri": "https://localhost:8080/"
        },
        "id": "5Qm40ovvpa8n",
        "outputId": "4a5ed571-f01d-45ee-8f4e-75c7ed946029"
      },
      "execution_count": 8,
      "outputs": [
        {
          "output_type": "stream",
          "name": "stdout",
          "text": [
            "/content/drive/MyDrive/machine_learning/JESC/raw.tar.gz: POSIX tar archive (GNU)\n"
          ]
        }
      ]
    },
    {
      "cell_type": "code",
      "source": [
        "# Extract the .tar.gz file\n",
        "def extract_tar(file_path, extract_path):\n",
        "    with tarfile.open(file_path, 'r:') as tar:  # 'r:' mode is for reading a non-compressed tar file\n",
        "        tar.extractall(path=extract_path)\n",
        "\n",
        "\n",
        "# Paths\n",
        "file_path = '/content/drive/MyDrive/machine_learning/JESC/raw.tar.gz'\n",
        "extract_path = '/content/drive/MyDrive/machine_learning/JESC/raw'  # Destination for extracted files\n",
        "\n",
        "# Extract the contents\n",
        "extract_tar(file_path, extract_path)\n",
        "\n",
        "# the text file is named 'raw.txt' within the extracted folder\n",
        "text_file_path = os.path.join(extract_path, 'raw.txt')\n",
        "\n",
        "# Print extracted files to verify the correct one\n",
        "extracted_files = os.listdir(extract_path)\n",
        "print(extracted_files)"
      ],
      "metadata": {
        "colab": {
          "base_uri": "https://localhost:8080/"
        },
        "id": "0lALYvnmmdbH",
        "outputId": "5e73b2cb-4d1f-4ff3-e95d-20fd33542ae5"
      },
      "execution_count": 15,
      "outputs": [
        {
          "output_type": "stream",
          "name": "stdout",
          "text": [
            "['raw']\n"
          ]
        }
      ]
    },
    {
      "cell_type": "code",
      "source": [
        "# use all data\n",
        "\n",
        "text_file_path = '/content/drive/MyDrive/machine_learning/JESC/raw/raw/raw'\n",
        "\n",
        "def load_data(file_path):\n",
        "    en = []\n",
        "    ja = []\n",
        "    with open(file_path, 'r', encoding='utf-8') as f:\n",
        "        for line in f:\n",
        "            parts = line.strip().split('\\t') # split by tab\n",
        "            if len(parts) >= 2:  # if there are 2 elements in parts\n",
        "                source = parts[0]\n",
        "                target = parts[1]\n",
        "                en.append(source)\n",
        "                ja.append(target)\n",
        "            else:\n",
        "                raise ValueError(\"less than 2 parts\")\n",
        "    return en, ja\n",
        "\n",
        "en, ja = load_data(text_file_path)\n",
        "\n",
        "\n",
        "\n"
      ],
      "metadata": {
        "id": "3RE8shIHiFOR"
      },
      "execution_count": 16,
      "outputs": []
    },
    {
      "cell_type": "code",
      "source": [
        "from sklearn.model_selection import train_test_split\n",
        "\n",
        "en_train, en_test, ja_train, ja_test = train_test_split(en, ja, train_size=0.9, test_size=0.1, random_state=42)\n",
        "\n",
        "def write_list_to_file(data_list, file_path):\n",
        "    with open(file_path, 'w', encoding='utf-8') as f:\n",
        "        for item in data_list:\n",
        "            f.write(\"%s\\n\" % item.strip())\n",
        "\n",
        "folder_path = '/content/drive/MyDrive/machine_learning/JESC'\n",
        "\n",
        "en_train_path = os.path.join(folder_path, \"JESC_en_train.txt\")\n",
        "en_test_path = os.path.join(folder_path, \"JESC_en_test.txt\")\n",
        "ja_train_path = os.path.join(folder_path, \"JESC_ja_train.txt\")\n",
        "ja_test_path = os.path.join(folder_path, \"JESC_ja_test.txt\")\n",
        "\n",
        "write_list_to_file(en_train, en_train_path)\n",
        "write_list_to_file(en_test, en_test_path)\n",
        "write_list_to_file(ja_train, ja_train_path)\n",
        "write_list_to_file(ja_test, ja_test_path)\n"
      ],
      "metadata": {
        "id": "HixBRRe5kgq0"
      },
      "execution_count": 18,
      "outputs": []
    }
  ]
}