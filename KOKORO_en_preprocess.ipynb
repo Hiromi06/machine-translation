{
  "nbformat": 4,
  "nbformat_minor": 0,
  "metadata": {
    "colab": {
      "provenance": [],
      "mount_file_id": "1qMDehfTnU9Eh7hJng3rcbCIqemHELh0b",
      "authorship_tag": "ABX9TyM3C0G90Ko2DX9tS0n03+CT",
      "include_colab_link": true
    },
    "kernelspec": {
      "name": "python3",
      "display_name": "Python 3"
    },
    "language_info": {
      "name": "python"
    }
  },
  "cells": [
    {
      "cell_type": "markdown",
      "metadata": {
        "id": "view-in-github",
        "colab_type": "text"
      },
      "source": [
        "<a href=\"https://colab.research.google.com/github/Hiromi06/machine-translation/blob/main/KOKORO_en_preprocess.ipynb\" target=\"_parent\"><img src=\"https://colab.research.google.com/assets/colab-badge.svg\" alt=\"Open In Colab\"/></a>"
      ]
    },
    {
      "cell_type": "code",
      "execution_count": null,
      "metadata": {
        "id": "TshXbGrIet95"
      },
      "outputs": [],
      "source": [
        "import re"
      ]
    },
    {
      "cell_type": "code",
      "source": [
        "input_file = '/content/drive/MyDrive/machine_learning/KOKORO_Ineko_Sato_fixed.txt'\n",
        "output_file = '/content/drive/MyDrive/machine_learning/en_preprocessed_kokoro.txt'"
      ],
      "metadata": {
        "id": "lukzAnVTe12L"
      },
      "execution_count": null,
      "outputs": []
    },
    {
      "cell_type": "code",
      "source": [
        "# Function to clean the text\n",
        "def clean_text(text):\n",
        "    # Remove spaces before specified punctuation marks\n",
        "    text = re.sub(r'\\s([;:!?])', r'\\1', text)\n",
        "    # Remove newline characters except for blank lines\n",
        "    text = re.sub(r'(?<!\\n)\\n(?!\\n)', '', text)\n",
        "    # Replace „ with \" and ‛ with '\n",
        "    #text = text.replace('‟', '\"').replace('‛', \"'\")\n",
        "    return text\n",
        "\n",
        "def remove_blank(chapter):\n",
        "    # Remove blank lines and leading/trailing whitespace from each line\n",
        "    lines = chapter.splitlines()\n",
        "    lines_cleaned = [l.strip() for l in lines if len(l) != 0]\n",
        "    return '\\n'.join(lines_cleaned)\n",
        "\n",
        "def text2chapter(text):\n",
        "    # Preserve PART sections and their titles\n",
        "    part_titles = [\"PARTⅠ\\nTHE SENSEI AND I\", \"PARTⅡ\\nMY PARENTS AND I\", \"PARTⅢ\\nTHE SENSEI AND HIS LAST LETTER\"]\n",
        "\n",
        "    for part in part_titles:\n",
        "        text = text.replace(part, f\"\\n\\n{part}\\n\\n\")\n",
        "\n",
        "    # delete titles\n",
        "    # text = text.replace('PART I', '').replace('PART II ', '').replace('PART III ', '').replace('THE SENSEI AND I ', '').replace('MY PARENTS AND I ', '').replace('THE SENSEI AND HIS LAST LETTER ', '')\n",
        "\n",
        "    # Split the document into chapters based on chapter headings\n",
        "    text_split = re.split(r'\\b[0-9]{1,3}\\b\\n', text)\n",
        "    if not text_split[0].strip():  # Remove the first element if it is empty\n",
        "        del text_split[0]\n",
        "    chapters = list(map(remove_blank, text_split))\n",
        "    print('Total chapter number: ', len(chapters))\n",
        "    return chapters\n",
        "\n",
        "\n",
        "\n",
        "\n",
        "def preprocess():\n",
        "    # Load and preprocess the text from 'Kokoro'\n",
        "    with open(input_file, mode='r', encoding='utf-8') as f:\n",
        "        kokoro = f.read()\n",
        "    text = clean_text(kokoro)\n",
        "    chapters = text2chapter(text)\n",
        "\n",
        "    # Write preprocessed text to an output file\n",
        "    with open(output_file, 'w', encoding='utf-8') as f:\n",
        "        for chapter in chapters:\n",
        "            paragraphs = chapter.split('\\n')\n",
        "            for paragraph in paragraphs:\n",
        "                if paragraph.strip():\n",
        "                    f.write(\"\\n\" + paragraph + \"\\n\\n\")\n",
        "\n",
        "\n",
        "\n",
        "\n",
        "if __name__== \"__main__\":\n",
        "  preprocess()\n",
        "\n"
      ],
      "metadata": {
        "colab": {
          "base_uri": "https://localhost:8080/"
        },
        "id": "ZSM2hj2QhwjZ",
        "outputId": "2108faae-4b08-4c02-c982-ca1e31d653f0"
      },
      "execution_count": null,
      "outputs": [
        {
          "output_type": "stream",
          "name": "stdout",
          "text": [
            "Total chapter number:  8\n"
          ]
        }
      ]
    }
  ]
}