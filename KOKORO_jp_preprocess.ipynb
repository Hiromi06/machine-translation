{
  "nbformat": 4,
  "nbformat_minor": 0,
  "metadata": {
    "colab": {
      "provenance": [],
      "mount_file_id": "1XKSkDXkZmOAudbqUafKuvOIao0ShgqJS",
      "authorship_tag": "ABX9TyOGEg+h7CzoeO0SI2/Cr95V",
      "include_colab_link": true
    },
    "kernelspec": {
      "name": "python3",
      "display_name": "Python 3"
    },
    "language_info": {
      "name": "python"
    }
  },
  "cells": [
    {
      "cell_type": "markdown",
      "metadata": {
        "id": "view-in-github",
        "colab_type": "text"
      },
      "source": [
        "<a href=\"https://colab.research.google.com/github/Hiromi06/machine-translation/blob/main/KOKORO_jp_preprocess.ipynb\" target=\"_parent\"><img src=\"https://colab.research.google.com/assets/colab-badge.svg\" alt=\"Open In Colab\"/></a>"
      ]
    },
    {
      "cell_type": "code",
      "execution_count": null,
      "metadata": {
        "id": "C-6c3F9r0okW"
      },
      "outputs": [],
      "source": [
        "import re"
      ]
    },
    {
      "cell_type": "code",
      "source": [
        "def ruby2txt(ruby):\n",
        "    # Remove non-text elements like rubies, annotations, and extra symbols\n",
        "    txt = re.split(r'-{50,}', ruby)[2]  # Remove the header part\n",
        "    txt = re.split(r'底本：', txt)[0]  # Remove the footer part\n",
        "    txt = re.sub(r'《.*?》|［＃.*?］|｜', '', txt)  # Remove ruby and annotations\n",
        "    return txt.strip()  # Remove leading and trailing whitespace\n",
        "\n",
        "def remove_blank(chapter):\n",
        "    # Remove blank lines and leading/trailing whitespace from each line\n",
        "    lines = chapter.splitlines()\n",
        "    lines_cleaned = [l.strip() for l in lines if len(l) != 0]\n",
        "    return '\\n'.join(lines_cleaned)\n",
        "\n",
        "def text2chapter(text):\n",
        "     # Preserve PART sections and their titles\n",
        "    part_titles = [\"上　先生と私\", \"中　両親と私\", \"下　先生と遺書\"]\n",
        "\n",
        "    for part in part_titles:\n",
        "        text = text.replace(part, f\"\\n\\n{part}\\n\\n\")\n",
        "\n",
        "\n",
        "    # Split the document into chapters based on chapter headings\n",
        "    doc_split = re.split('[一二三四五六七八九十]{1,3}\\n', text)\n",
        "    del doc_split[0]  # Remove the first element which is empty\n",
        "    chapters = list(map(remove_blank, doc_split))\n",
        "    print('Total chapter number: ', len(chapters))\n",
        "    return chapters\n",
        "\n",
        "\n",
        "def preprocess():\n",
        "    # Load and preprocess the text from 'Kokoro'\n",
        "    input_file = '/content/drive/MyDrive/machine_learning/kokoro.txt'\n",
        "    output_file = '/content/drive/MyDrive/machine_learning/preprocessed_kokoro.txt'\n",
        "    with open(input_file, mode='r', encoding='shift-jis') as f:\n",
        "        kokoro = f.read()\n",
        "    text = ruby2txt(kokoro)\n",
        "    chapters = text2chapter(text)\n",
        "\n",
        "\n",
        "    # Write preprocessed text to an output file\n",
        "    with open(output_file, 'w', encoding='utf-8') as f:\n",
        "        for i, chapter in enumerate(chapters):\n",
        "            f.write(f\"Chapter {i + 1}:\\n\")\n",
        "            f.write(chapter)\n",
        "            f.write(\"\\n\\n\")\n",
        "\n",
        "    return chapters\n",
        "\n",
        "\n",
        "if __name__== \"__main__\":\n",
        "  preprocess()\n"
      ],
      "metadata": {
        "colab": {
          "base_uri": "https://localhost:8080/"
        },
        "id": "LwYFgEk09B-2",
        "outputId": "158959e4-379c-4f23-d59b-d0d414aae5f5"
      },
      "execution_count": null,
      "outputs": [
        {
          "output_type": "stream",
          "name": "stdout",
          "text": [
            "Total chapter number:  110\n"
          ]
        }
      ]
    },
    {
      "cell_type": "code",
      "source": [
        "\"\"\"\n",
        "Reference\n",
        "Accessed: 31, July 2024\n",
        "<script src=\"https://gist.github.com/kohiro37/c4ed8140f9e3e4f72487b8488d327a14.js\"></script>\n",
        "\"\"\""
      ],
      "metadata": {
        "id": "59mVrWT10scT"
      },
      "execution_count": null,
      "outputs": []
    }
  ]
}