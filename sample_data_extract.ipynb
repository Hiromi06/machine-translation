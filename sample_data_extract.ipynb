{
  "nbformat": 4,
  "nbformat_minor": 0,
  "metadata": {
    "colab": {
      "provenance": [],
      "mount_file_id": "1gvT-O9VeFHzMbCGKoh772vcTS-7Q8WC8",
      "authorship_tag": "ABX9TyMN9ci2PegzWDQQRofPfmJA",
      "include_colab_link": true
    },
    "kernelspec": {
      "name": "python3",
      "display_name": "Python 3"
    },
    "language_info": {
      "name": "python"
    }
  },
  "cells": [
    {
      "cell_type": "markdown",
      "metadata": {
        "id": "view-in-github",
        "colab_type": "text"
      },
      "source": [
        "<a href=\"https://colab.research.google.com/github/Hiromi06/machine-translation/blob/main/sample_data_extract.ipynb\" target=\"_parent\"><img src=\"https://colab.research.google.com/assets/colab-badge.svg\" alt=\"Open In Colab\"/></a>"
      ]
    },
    {
      "cell_type": "code",
      "execution_count": null,
      "metadata": {
        "colab": {
          "base_uri": "https://localhost:8080/"
        },
        "id": "ph-JIn0tbubU",
        "outputId": "eeee3a9d-eef1-4ca4-8157-a500334328a6"
      },
      "outputs": [
        {
          "output_type": "stream",
          "name": "stdout",
          "text": [
            "['/content',\n",
            " '/env/python',\n",
            " '/usr/lib/python310.zip',\n",
            " '/usr/lib/python3.10',\n",
            " '/usr/lib/python3.10/lib-dynload',\n",
            " '',\n",
            " '/usr/local/lib/python3.10/dist-packages',\n",
            " '/usr/lib/python3/dist-packages',\n",
            " '/usr/local/lib/python3.10/dist-packages/IPython/extensions',\n",
            " '/root/.ipython']\n"
          ]
        }
      ],
      "source": [
        "import sys\n",
        "import os\n",
        "import pprint\n",
        "pprint.pprint(sys.path)"
      ]
    },
    {
      "cell_type": "code",
      "source": [
        "# use sampled data\n",
        "\n",
        "import random\n",
        "\n",
        "def load_data(file_path, sample_size=None): # set sample_size = None in case it is not given\n",
        "    en = []\n",
        "    ja = []\n",
        "    with open(file_path, 'r', encoding='utf-8') as f:\n",
        "        lines = f.readlines()  # read all lines from the file\n",
        "\n",
        "        if sample_size and sample_size < len(lines):\n",
        "            # if sample_size exists and it is smaller than all data\n",
        "            lines = random.sample(lines, sample_size)  # get samples at random\n",
        "\n",
        "        for line in lines:\n",
        "            parts = line.strip().split('\\t') # separate by tab\n",
        "            if len(parts) >= 4:  # if there are 4 elements in parts\n",
        "                source = parts[2]\n",
        "                target = parts[3]\n",
        "                en.append(source)\n",
        "                ja.append(target)\n",
        "            else:\n",
        "                raise ValueError(\"less than 4 parts\")\n",
        "    return en, ja\n",
        "\n",
        "\n",
        "file_path = '/content/drive/MyDrive/machine_learning/en-ja.bicleaner05.txt'\n",
        "sample_size = 10000\n",
        "\n",
        "en, ja = load_data(file_path, sample_size)\n",
        "\n",
        "# source_texts: en\n",
        "# target_texts: ja"
      ],
      "metadata": {
        "id": "qYjTp6qbbzQ5"
      },
      "execution_count": null,
      "outputs": []
    },
    {
      "cell_type": "code",
      "source": [
        "from sklearn.model_selection import train_test_split\n",
        "\n",
        "en_train, en_test, ja_train, ja_test = train_test_split(en, ja, train_size=0.9, test_size=0.1, random_state=42)\n",
        "\n",
        "folder_path = '/content/drive/MyDrive/machine_learning'\n",
        "\n",
        "def write_list_to_file(data_list, file_path):\n",
        "    with open(file_path, 'w', encoding='utf-8') as f:\n",
        "        for item in data_list:\n",
        "            f.write(\"%s\\n\" % item.strip())\n",
        "\n",
        "\n",
        "sample_en_train_path = os.path.join(folder_path, \"sample_en_train.txt\")\n",
        "sample_en_test_path = os.path.join(folder_path, \"sample_en_test.txt\")\n",
        "sample_ja_train_path = os.path.join(folder_path, \"sample_ja_train.txt\")\n",
        "sample_ja_test_path = os.path.join(folder_path, \"sample_ja_test.txt\")\n",
        "\n",
        "write_list_to_file(en_train, sample_en_train_path)\n",
        "write_list_to_file(en_test, sample_en_test_path)\n",
        "write_list_to_file(ja_train, sample_ja_train_path)\n",
        "write_list_to_file(ja_test, sample_ja_test_path)\n",
        "\n",
        "\n"
      ],
      "metadata": {
        "id": "-4VQ81NgceXu"
      },
      "execution_count": null,
      "outputs": []
    },
    {
      "cell_type": "code",
      "source": [
        "\n"
      ],
      "metadata": {
        "id": "5F69NHsAxA_w"
      },
      "execution_count": null,
      "outputs": []
    }
  ]
}