{
  "nbformat": 4,
  "nbformat_minor": 0,
  "metadata": {
    "colab": {
      "provenance": [],
      "mount_file_id": "152SJjtkfbyt02I4SBPVQAS0JxMeKj3Qq",
      "authorship_tag": "ABX9TyPiB3LDZtcOTF45BMp3HyL/",
      "include_colab_link": true
    },
    "kernelspec": {
      "name": "python3",
      "display_name": "Python 3"
    },
    "language_info": {
      "name": "python"
    }
  },
  "cells": [
    {
      "cell_type": "markdown",
      "metadata": {
        "id": "view-in-github",
        "colab_type": "text"
      },
      "source": [
        "<a href=\"https://colab.research.google.com/github/Hiromi06/machine-translation/blob/main/text_average_length.ipynb\" target=\"_parent\"><img src=\"https://colab.research.google.com/assets/colab-badge.svg\" alt=\"Open In Colab\"/></a>"
      ]
    },
    {
      "cell_type": "code",
      "execution_count": 3,
      "metadata": {
        "colab": {
          "base_uri": "https://localhost:8080/"
        },
        "id": "P8oToRVbbJWg",
        "outputId": "74daa1c5-c16b-42c1-e8ba-acde83b6f252"
      },
      "outputs": [
        {
          "output_type": "stream",
          "name": "stdout",
          "text": [
            "JPen:  134.33274870223434\n",
            "JPja:  60.27144066093657\n",
            "JEen:  36.17858053686883\n",
            "JEja:  14.852849123589142\n"
          ]
        }
      ],
      "source": [
        "def average_length(texts):\n",
        "\n",
        "  with open(texts, 'r', encoding='utf-8') as file:\n",
        "      # Read all lines into a list\n",
        "      lines = file.readlines()\n",
        "\n",
        "  line_lengths = [len(line.strip()) for line in lines]\n",
        "\n",
        "  # Calculate the average length of the lines\n",
        "  average_length = sum(line_lengths) / len(line_lengths) if line_lengths else 0\n",
        "\n",
        "  return average_length\n",
        "\n",
        "\n",
        "JPen = '/content/drive/MyDrive/machine_learning/JP_en_train.txt'\n",
        "JPja = '/content/drive/MyDrive/machine_learning/JP_ja_train.txt'\n",
        "JEen = '/content/drive/MyDrive/machine_learning/JESC/JESC_en_train.txt'\n",
        "JEja = '/content/drive/MyDrive/machine_learning/JESC/JESC_ja_train.txt'\n",
        "\n",
        "print(\"JPen: \", average_length(JPen))\n",
        "print(\"JPja: \", average_length(JPja))\n",
        "print(\"JEen: \", average_length(JEen))\n",
        "print(\"JEja: \", average_length(JEja))"
      ]
    }
  ]
}