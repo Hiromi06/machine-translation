{
  "nbformat": 4,
  "nbformat_minor": 0,
  "metadata": {
    "colab": {
      "provenance": [],
      "mount_file_id": "152SJjtkfbyt02I4SBPVQAS0JxMeKj3Qq",
      "authorship_tag": "ABX9TyNKfI89QYWWPSswt+SRAErP",
      "include_colab_link": true
    },
    "kernelspec": {
      "name": "python3",
      "display_name": "Python 3"
    },
    "language_info": {
      "name": "python"
    }
  },
  "cells": [
    {
      "cell_type": "markdown",
      "metadata": {
        "id": "view-in-github",
        "colab_type": "text"
      },
      "source": [
        "<a href=\"https://colab.research.google.com/github/Hiromi06/machine-translation/blob/main/text_average_length.ipynb\" target=\"_parent\"><img src=\"https://colab.research.google.com/assets/colab-badge.svg\" alt=\"Open In Colab\"/></a>"
      ]
    },
    {
      "cell_type": "code",
      "execution_count": null,
      "metadata": {
        "colab": {
          "base_uri": "https://localhost:8080/"
        },
        "id": "P8oToRVbbJWg",
        "outputId": "74daa1c5-c16b-42c1-e8ba-acde83b6f252"
      },
      "outputs": [
        {
          "output_type": "stream",
          "name": "stdout",
          "text": [
            "JPen:  134.33274870223434\n",
            "JPja:  60.27144066093657\n",
            "JEen:  36.17858053686883\n",
            "JEja:  14.852849123589142\n"
          ]
        }
      ],
      "source": [
        "def average_length(texts):\n",
        "\n",
        "  with open(texts, 'r', encoding='utf-8') as file:\n",
        "      # Read all lines into a list\n",
        "      lines = file.readlines()\n",
        "\n",
        "  line_lengths = [len(line.strip()) for line in lines]\n",
        "\n",
        "  # Calculate the average length of the lines\n",
        "  average_length = sum(line_lengths) / len(line_lengths) if line_lengths else 0\n",
        "\n",
        "  return average_length\n",
        "\n",
        "\n",
        "JPen = '/content/drive/MyDrive/machine_learning/JP_en_train.txt'\n",
        "JPja = '/content/drive/MyDrive/machine_learning/JP_ja_train.txt'\n",
        "JEen = '/content/drive/MyDrive/machine_learning/JESC/JESC_en_train.txt'\n",
        "JEja = '/content/drive/MyDrive/machine_learning/JESC/JESC_ja_train.txt'\n",
        "\n",
        "print(\"JPen: \", average_length(JPen))\n",
        "print(\"JPja: \", average_length(JPja))\n",
        "print(\"JEen: \", average_length(JEen))\n",
        "print(\"JEja: \", average_length(JEja))"
      ]
    },
    {
      "cell_type": "code",
      "source": [
        "def average_and_total_length(texts):\n",
        "    with open(texts, 'r', encoding='utf-8') as file:\n",
        "        # Read all lines into a list\n",
        "        lines = file.readlines()\n",
        "\n",
        "    # Calculate the length of each line\n",
        "    line_lengths = [len(line.strip()) for line in lines]\n",
        "\n",
        "    # Calculate the total length of all lines\n",
        "    total_length = sum(line_lengths)\n",
        "\n",
        "    # Calculate the average length of the lines\n",
        "    average_length = total_length / len(line_lengths) if line_lengths else 0\n",
        "\n",
        "    # Return both the total and average length\n",
        "    return total_length, average_length\n",
        "\n",
        "# File paths\n",
        "reference = '/content/drive/MyDrive/machine_learning/en_preprocessed_kokoro.txt'\n",
        "translation = '/content/drive/MyDrive/machine_learning/MarianMT/translated_text/ep3/translation_chunk6_ep3/Marian_translated_kokoro_chunk6_ep3.txt'\n",
        "\n",
        "# Getting and printing the results\n",
        "for filename in [reference, translation]:\n",
        "    total_length, avg_length = average_and_total_length(filename)\n",
        "    print(f\"File: {filename}\")\n",
        "    print(f\"Total length: {total_length}\")\n",
        "    print(f\"Average line length: {avg_length}\\n\")"
      ],
      "metadata": {
        "colab": {
          "base_uri": "https://localhost:8080/"
        },
        "id": "tPtRa2JjKX_V",
        "outputId": "1326cef0-bde5-4907-d2f1-b65fbd408ff6"
      },
      "execution_count": null,
      "outputs": [
        {
          "output_type": "stream",
          "name": "stdout",
          "text": [
            "File: /content/drive/MyDrive/machine_learning/en_preprocessed_kokoro.txt\n",
            "Total length: 373964\n",
            "Average line length: 99.72373333333333\n",
            "\n",
            "File: /content/drive/MyDrive/machine_learning/MarianMT/translated_text/ep3/translation_chunk6_ep3/Marian_translated_kokoro_chunk6_ep3.txt\n",
            "Total length: 183841\n",
            "Average line length: 68.93175853018373\n",
            "\n"
          ]
        }
      ]
    },
    {
      "cell_type": "code",
      "source": [
        "def average_and_total_length(texts):\n",
        "    with open(texts, 'r', encoding='utf-8') as file:\n",
        "        # Read all lines into a list\n",
        "        lines = file.readlines()\n",
        "\n",
        "    # Calculate the length of each line\n",
        "    line_lengths = [len(line.strip()) for line in lines]\n",
        "\n",
        "    # Calculate the total length of all lines\n",
        "    total_length = sum(line_lengths)\n",
        "\n",
        "    # Calculate the average length of the lines\n",
        "    average_length = total_length / len(line_lengths) if line_lengths else 0\n",
        "\n",
        "    # Return both the total and average length\n",
        "    return total_length, average_length\n",
        "\n",
        "\n",
        "translation1 = '/content/drive/MyDrive/machine_learning/MarianMT/translated_text/ep3/translation_chunk10_ep3/Marian_translated_kokoro_chunk10_ep3.txt'\n",
        "translation2 = '/content/drive/MyDrive/machine_learning/JESC/MarianMT/translated_text/ep1/translation_chunk1_ep1/JESC_kokoro_chunk1_ep1.txt'\n",
        "translation3 = '/content/drive/MyDrive/machine_learning/JESC/MarianMT/translated_text/ep1/translation_chunk2_ep1/JESC_kokoro_chunk2_ep1.txt'\n",
        "translation4 = '/content/drive/MyDrive/machine_learning/JESC/MarianMT/translated_text/ep1/translation_chunk3_ep1/JESC_kokoro_chunk3_ep1.txt'\n",
        "translation5 = '/content/drive/MyDrive/machine_learning/JESC/MarianMT/translated_text/ep1/translation_chunk4_ep1/JESC_kokoro_chunk4_ep1.txt'\n",
        "translation6 = '/content/drive/MyDrive/machine_learning/JESC/MarianMT/translated_text/ep1/translation_chunk5_ep1/JESC_kokoro_chunk5_ep1.txt'\n",
        "\n",
        "for filename in [translation1, translation2, translation3, translation4, translation5, translation6]:\n",
        "    total_length, avg_length = average_and_total_length(filename)\n",
        "    print(f\"File: {filename}\")\n",
        "    print(f\"Total length: {total_length}\")\n",
        "    print(f\"Average line length: {avg_length}\\n\")"
      ],
      "metadata": {
        "colab": {
          "base_uri": "https://localhost:8080/"
        },
        "id": "VAj9OPGCqgjM",
        "outputId": "660ede1c-51ee-41eb-f796-4f9b4c3e9b2c"
      },
      "execution_count": 1,
      "outputs": [
        {
          "output_type": "stream",
          "name": "stdout",
          "text": [
            "File: /content/drive/MyDrive/machine_learning/MarianMT/translated_text/ep3/translation_chunk10_ep3/Marian_translated_kokoro_chunk10_ep3.txt\n",
            "Total length: 208128\n",
            "Average line length: 78.03824521934759\n",
            "\n",
            "File: /content/drive/MyDrive/machine_learning/JESC/MarianMT/translated_text/ep1/translation_chunk1_ep1/JESC_kokoro_chunk1_ep1.txt\n",
            "Total length: 208128\n",
            "Average line length: 78.03824521934759\n",
            "\n",
            "File: /content/drive/MyDrive/machine_learning/JESC/MarianMT/translated_text/ep1/translation_chunk2_ep1/JESC_kokoro_chunk2_ep1.txt\n",
            "Total length: 208128\n",
            "Average line length: 78.03824521934759\n",
            "\n",
            "File: /content/drive/MyDrive/machine_learning/JESC/MarianMT/translated_text/ep1/translation_chunk3_ep1/JESC_kokoro_chunk3_ep1.txt\n",
            "Total length: 208128\n",
            "Average line length: 78.03824521934759\n",
            "\n",
            "File: /content/drive/MyDrive/machine_learning/JESC/MarianMT/translated_text/ep1/translation_chunk4_ep1/JESC_kokoro_chunk4_ep1.txt\n",
            "Total length: 208128\n",
            "Average line length: 78.03824521934759\n",
            "\n",
            "File: /content/drive/MyDrive/machine_learning/JESC/MarianMT/translated_text/ep1/translation_chunk5_ep1/JESC_kokoro_chunk5_ep1.txt\n",
            "Total length: 208128\n",
            "Average line length: 78.03824521934759\n",
            "\n"
          ]
        }
      ]
    }
  ]
}